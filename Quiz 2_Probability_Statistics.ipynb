{
 "cells": [
  {
   "cell_type": "markdown",
   "id": "edf1aed4",
   "metadata": {},
   "source": [
    "## Quiz 2 - Probability, Statistics (ლექცია 4, ლექცია 5) - 7 ქულა\n",
    "\n",
    "იხილეთ LoanStatus.csv მონაცემთა ფაილი, რომელშიც მოცემულია კლიენტთა ინფორმაცია შემდეგი სვეტებით:\n",
    "\n",
    "Loan ID - კლიენტის ID\n",
    "\n",
    "Gender - სქესი\n",
    "\n",
    "Married - დაქორზინებული არის თუ არა\n",
    "\n",
    "Dependents - ოჯახის წევრების რაოდენობა, რომლის ფინანსურ მხარდაჭერასაც უზრუნველყოფს კლიენტი\n",
    "\n",
    "Education - არის თუ არა უმაღლესი განათლების მქონე\n",
    "\n",
    "Self_Employed - არის თუ არა თვითდასაქმებული\n",
    "\n",
    "ApplicantIncome - კლიენტის შემოსავალი (per month)\n",
    "\n",
    "LoanAmount  - სესხის რაოდენობა (ათასებში)\n",
    "\n",
    "Loan_Amount_Term - სესხის ვადა\n",
    "\n",
    "Credit_History - როგორი საკრედიტო ისტორია აქვს კლიენტს (1-კარგი, 0-ცუდი)\n",
    "\n",
    "Property_Area - საცხოვრებელი და სამუშაო ადგილი\n",
    "\n",
    "Loan_Status - სესხის გაცემის სტატუსი\n"
   ]
  },
  {
   "cell_type": "markdown",
   "id": "3b4fc6c6",
   "metadata": {},
   "source": [
    "## დავალება 1: აღწერილობითი სტატისტიკა  (1 ქულა)\n",
    "ა) გახსენით ფაილი და დაბეჭდეთ აღწერილობითი სტატისტიკის მონაცემები თქვენთვის საინტერესო ველებისთვის, როგორიცაა საშუალო, მედიანა, მოდა, სტდ. გადახრა, ა.შ. (მოახდინეთ სიტყვიერი ინტერპრეტაცია);\n",
    "\n",
    "ბ) დაითვალეთ თითოეულ სვეტში ცარიელი მნიშვნელობების რაოდენობა შესაბამისი ფუნქციით"
   ]
  },
  {
   "cell_type": "code",
   "execution_count": 1,
   "id": "b786db79",
   "metadata": {},
   "outputs": [],
   "source": [
    "import pandas as pd\n",
    "import warnings\n",
    "\n",
    "from scipy.stats import norm\n",
    "warnings.filterwarnings(\"ignore\")"
   ]
  },
  {
   "cell_type": "code",
   "execution_count": 2,
   "id": "1abee773",
   "metadata": {},
   "outputs": [
    {
     "data": {
      "text/html": [
       "<div>\n",
       "<style scoped>\n",
       "    .dataframe tbody tr th:only-of-type {\n",
       "        vertical-align: middle;\n",
       "    }\n",
       "\n",
       "    .dataframe tbody tr th {\n",
       "        vertical-align: top;\n",
       "    }\n",
       "\n",
       "    .dataframe thead th {\n",
       "        text-align: right;\n",
       "    }\n",
       "</style>\n",
       "<table border=\"1\" class=\"dataframe\">\n",
       "  <thead>\n",
       "    <tr style=\"text-align: right;\">\n",
       "      <th></th>\n",
       "      <th>Loan_ID</th>\n",
       "      <th>Gender</th>\n",
       "      <th>Married</th>\n",
       "      <th>Dependents</th>\n",
       "      <th>Education</th>\n",
       "      <th>Self_Employed</th>\n",
       "      <th>ApplicantIncome</th>\n",
       "      <th>LoanAmount</th>\n",
       "      <th>Loan_Amount_Term</th>\n",
       "      <th>Credit_History</th>\n",
       "      <th>Property_Area</th>\n",
       "      <th>Loan_Status</th>\n",
       "    </tr>\n",
       "  </thead>\n",
       "  <tbody>\n",
       "    <tr>\n",
       "      <th>0</th>\n",
       "      <td>LP001002</td>\n",
       "      <td>Male</td>\n",
       "      <td>No</td>\n",
       "      <td>0</td>\n",
       "      <td>Graduate</td>\n",
       "      <td>No</td>\n",
       "      <td>5849</td>\n",
       "      <td>NaN</td>\n",
       "      <td>360.0</td>\n",
       "      <td>1.0</td>\n",
       "      <td>Urban</td>\n",
       "      <td>Y</td>\n",
       "    </tr>\n",
       "    <tr>\n",
       "      <th>1</th>\n",
       "      <td>LP001003</td>\n",
       "      <td>Male</td>\n",
       "      <td>Yes</td>\n",
       "      <td>1</td>\n",
       "      <td>Graduate</td>\n",
       "      <td>No</td>\n",
       "      <td>4583</td>\n",
       "      <td>128.0</td>\n",
       "      <td>360.0</td>\n",
       "      <td>1.0</td>\n",
       "      <td>Rural</td>\n",
       "      <td>N</td>\n",
       "    </tr>\n",
       "    <tr>\n",
       "      <th>2</th>\n",
       "      <td>LP001005</td>\n",
       "      <td>Male</td>\n",
       "      <td>Yes</td>\n",
       "      <td>0</td>\n",
       "      <td>Graduate</td>\n",
       "      <td>Yes</td>\n",
       "      <td>3000</td>\n",
       "      <td>66.0</td>\n",
       "      <td>360.0</td>\n",
       "      <td>1.0</td>\n",
       "      <td>Urban</td>\n",
       "      <td>Y</td>\n",
       "    </tr>\n",
       "    <tr>\n",
       "      <th>3</th>\n",
       "      <td>LP001006</td>\n",
       "      <td>Male</td>\n",
       "      <td>Yes</td>\n",
       "      <td>0</td>\n",
       "      <td>Not Graduate</td>\n",
       "      <td>No</td>\n",
       "      <td>2583</td>\n",
       "      <td>120.0</td>\n",
       "      <td>360.0</td>\n",
       "      <td>1.0</td>\n",
       "      <td>Urban</td>\n",
       "      <td>Y</td>\n",
       "    </tr>\n",
       "    <tr>\n",
       "      <th>4</th>\n",
       "      <td>LP001008</td>\n",
       "      <td>Male</td>\n",
       "      <td>No</td>\n",
       "      <td>0</td>\n",
       "      <td>Graduate</td>\n",
       "      <td>No</td>\n",
       "      <td>6000</td>\n",
       "      <td>141.0</td>\n",
       "      <td>360.0</td>\n",
       "      <td>1.0</td>\n",
       "      <td>Urban</td>\n",
       "      <td>Y</td>\n",
       "    </tr>\n",
       "  </tbody>\n",
       "</table>\n",
       "</div>"
      ],
      "text/plain": [
       "    Loan_ID Gender Married Dependents     Education Self_Employed  \\\n",
       "0  LP001002   Male      No          0      Graduate            No   \n",
       "1  LP001003   Male     Yes          1      Graduate            No   \n",
       "2  LP001005   Male     Yes          0      Graduate           Yes   \n",
       "3  LP001006   Male     Yes          0  Not Graduate            No   \n",
       "4  LP001008   Male      No          0      Graduate            No   \n",
       "\n",
       "   ApplicantIncome  LoanAmount  Loan_Amount_Term  Credit_History  \\\n",
       "0             5849         NaN             360.0             1.0   \n",
       "1             4583       128.0             360.0             1.0   \n",
       "2             3000        66.0             360.0             1.0   \n",
       "3             2583       120.0             360.0             1.0   \n",
       "4             6000       141.0             360.0             1.0   \n",
       "\n",
       "  Property_Area Loan_Status  \n",
       "0         Urban           Y  \n",
       "1         Rural           N  \n",
       "2         Urban           Y  \n",
       "3         Urban           Y  \n",
       "4         Urban           Y  "
      ]
     },
     "execution_count": 2,
     "metadata": {},
     "output_type": "execute_result"
    }
   ],
   "source": [
    "df = pd.read_csv('data/LoanStatus.csv')\n",
    "df.head(10)"
   ]
  },
  {
   "cell_type": "code",
   "execution_count": 3,
   "id": "eacde097",
   "metadata": {},
   "outputs": [
    {
     "data": {
      "text/plain": [
       "128.0"
      ]
     },
     "execution_count": 3,
     "metadata": {},
     "output_type": "execute_result"
    }
   ],
   "source": [
    "df['ApplicantIncome'].mean() #ითვლის კლიენტის შემოსავლების საშუალოს\n",
    "df['ApplicantIncome'].std() #კლიენტის შემოსავლების მიხედვით ითვლის სტანდარტულ გადახრას\n",
    "df['LoanAmount'].median()  #სესხის რაოდენობის სვეტის მიხედვით ითვლის მედიანას"
   ]
  },
  {
   "cell_type": "code",
   "execution_count": 4,
   "id": "a679f720",
   "metadata": {},
   "outputs": [
    {
     "data": {
      "text/plain": [
       "Loan_ID              0\n",
       "Gender              13\n",
       "Married              3\n",
       "Dependents          15\n",
       "Education            0\n",
       "Self_Employed       32\n",
       "ApplicantIncome      0\n",
       "LoanAmount          22\n",
       "Loan_Amount_Term    14\n",
       "Credit_History      50\n",
       "Property_Area        0\n",
       "Loan_Status          0\n",
       "dtype: int64"
      ]
     },
     "execution_count": 4,
     "metadata": {},
     "output_type": "execute_result"
    }
   ],
   "source": [
    "df.isnull().sum()  #სვეტებში არსებულ ცარიელ მნიშვნელობებს ითვლის"
   ]
  },
  {
   "cell_type": "markdown",
   "id": "765decd7",
   "metadata": {},
   "source": [
    "## დავალება 2:  ალბათობა (1 ქულა)\n",
    "ა) დაითვალეთ, რა არის სესხის აღების ალბათობა Loan_Status-ის მიხედვით.\n",
    "\n",
    "ბ) რა არის სესხის აღების ალბათობა, მაშინ როცა კლიენტს კარგი საკრედიტო ისტორია აქვს.\n",
    "\n",
    "კოდს დაურთეთ თქვენი კომენტარები მოკლედ"
   ]
  },
  {
   "cell_type": "code",
   "execution_count": 33,
   "id": "98aafed8",
   "metadata": {},
   "outputs": [
    {
     "name": "stdout",
     "output_type": "stream",
     "text": [
      "Probability of getting a loan: 0.69\n"
     ]
    }
   ],
   "source": [
    "#სესხის აღების ალბათობა მ Loan_Status-ის მიხედვით\n",
    "import pandas as pd\n",
    "\n",
    "# Loan_Status სვეტის ამოღება\n",
    "data = df['Loan_Status']\n",
    "\n",
    "df = pd.DataFrame(data)\n",
    "\n",
    "total_loans = df.shape[0]  #სესხის სრული რაოდენობა\n",
    "approved_loans = df[df['Loan_Status'] == 'Y'].shape[0]  #დადასტურებული სესხების რაოდენობა\n",
    "\n",
    "probability_of_approval = approved_loans / total_loans #  სესხის აღების ალბათობა\n",
    "\n",
    "print(f\"Probability of getting a loan: {probability_of_approval:.2f}\")\n"
   ]
  },
  {
   "cell_type": "code",
   "execution_count": null,
   "id": "8307cf58",
   "metadata": {},
   "outputs": [],
   "source": []
  },
  {
   "cell_type": "markdown",
   "id": "80eb6167",
   "metadata": {},
   "source": [
    "## დავალება 3: გრაფიკული წარმოდგენა (1 ქულა)\n",
    "ა) seaborn.distplot ან seaborn.histplot() ფუნქციის გამოყენებით, ააგეთ რომელიმე სვეტისთვის შესაბამისი გრაფიკი. ლინკი: https://seaborn.pydata.org/generated/seaborn.distplot.html\n",
    "\n",
    "ბ) matplotlib.pyplot.hist ფუნქციის გამოყენებით, ააგეთ რომელიმე სვეტისთვის შესაბამისი ჰისტოგრამი, რომელშიც bin-ების (ჰოსტოგრამაში ბლოკების) რაოდენობას თქვენ განსაზღვრავთ (მაგ. ჰისტოგრამაში 10 სვეტად წარმოადგინოთ მონაცემები.) იხ. დოკუმენტაცია შემდეგ ლინკზე: https://matplotlib.org/stable/api/_as_gen/matplotlib.pyplot.hist.html \n",
    "\n",
    "Future warnings-ების გამოსართავად ჩაწერეთ შემდეგი ბრძანებები:\n",
    "import warnings\n",
    "warnings.filterwarnings(\"ignore\")\n",
    "\n",
    "კოდს დაურთეთ თქვენი კომენტარები მოკლედ"
   ]
  },
  {
   "cell_type": "code",
   "execution_count": 9,
   "id": "4acb2e7f",
   "metadata": {},
   "outputs": [],
   "source": [
    "import numpy as np\n",
    "import matplotlib.pyplot as plt\n",
    "import seaborn as sns"
   ]
  },
  {
   "cell_type": "code",
   "execution_count": 10,
   "id": "6e98aca4",
   "metadata": {},
   "outputs": [
    {
     "data": {
      "text/plain": [
       "<Axes: xlabel='LoanAmount', ylabel='Density'>"
      ]
     },
     "execution_count": 10,
     "metadata": {},
     "output_type": "execute_result"
    },
    {
     "data": {
      "image/png": "[encoded data removed]",
      "text/plain": [
       "<Figure size 640x480 with 1 Axes>"
      ]
     },
     "metadata": {},
     "output_type": "display_data"
    }
   ],
   "source": [
    "sns.distplot(df['LoanAmount'])"
   ]
  },
  {
   "cell_type": "code",
   "execution_count": 11,
   "id": "47399106",
   "metadata": {},
   "outputs": [
    {
     "data": {
      "text/plain": [
       "<Axes: ylabel='Frequency'>"
      ]
     },
     "execution_count": 11,
     "metadata": {},
     "output_type": "execute_result"
    },
    {
     "data": {
      "image/png": "[encoded data removed]",
      "text/plain": [
       "<Figure size 640x480 with 1 Axes>"
      ]
     },
     "metadata": {},
     "output_type": "display_data"
    }
   ],
   "source": [
    "import matplotlib.pyplot as plt\n",
    "\n",
    "df['LoanAmount'].plot(kind='hist', bins=10, edgecolor='black')\n"
   ]
  },
  {
   "cell_type": "markdown",
   "id": "7331343b",
   "metadata": {},
   "source": [
    "## დავალება 4:  კუმულაციური ალბათობა (Cumulative distribution function) - (1 ქულა)\n",
    "დაითვალეთ შემდეგი კუმულაციური ალბათობა scipy.stats.norm.cdf() ფუნქციის გამოყენებით.\n",
    "დაითვალეთ კლიენტების რამდენ პროცენტს აქვს შემოსავალი 2000 ევროზე ნაკლები ყოველთვიურად.\n",
    "norm.cdf(x, mean_val, std_dev_val) ფუნქციის პირველი პარამეტრია სასაზღვრო მნიშვნელობა, მეორე- საშუალო, მესამე -სტდ. გადახრა.\n",
    "\n",
    "#### მოახდინეთ შედეგების სიტყვიერი ინტერპრეტაცია"
   ]
  },
  {
   "cell_type": "code",
   "execution_count": 29,
   "id": "be4adcf9",
   "metadata": {},
   "outputs": [],
   "source": [
    "from scipy.stats import norm"
   ]
  },
  {
   "cell_type": "code",
   "execution_count": 31,
   "id": "ea939c97",
   "metadata": {},
   "outputs": [
    {
     "name": "stdout",
     "output_type": "stream",
     "text": [
      "28.87%\n"
     ]
    }
   ],
   "source": [
    "mean_income = df[\"ApplicantIncome\"].mean()\n",
    "std_dev = df[\"ApplicantIncome\"].std()\n",
    "limit_value = 2000  # ზღვარის მნიშვნელობა\n",
    " \n",
    "# ითვლის კუმულაციურ ალბათობას ApplicantIncome სვეტის მიხედვით \n",
    "percentage = norm.cdf(limit_value, mean_income, std_dev) * 100  #პროცენტის მისაღებად ვამრავლებთ 100-ზე\n",
    "\n",
    "print(f\"{percentage:.2f}%\")"
   ]
  },
  {
   "cell_type": "code",
   "execution_count": null,
   "id": "ac6083ba",
   "metadata": {},
   "outputs": [],
   "source": []
  },
  {
   "cell_type": "markdown",
   "id": "ab5b9a5b",
   "metadata": {},
   "source": [
    "## დავალება 5: სტატისტიკა (1 ქულა)\n",
    "\n",
    "ააგეთ 2 boxplot დიაგრამა seaborn.boxplot() ფუნქციის გამოყენებით რომელიმე ველის მიმართ. "
   ]
  },
  {
   "cell_type": "code",
   "execution_count": 60,
   "id": "60901cb8",
   "metadata": {},
   "outputs": [
    {
     "data": {
      "text/plain": [
       "<Axes: xlabel='ApplicantIncome'>"
      ]
     },
     "execution_count": 60,
     "metadata": {},
     "output_type": "execute_result"
    },
    {
     "data": {
      "image/png": "[encoded data removed]",
      "text/plain": [
       "<Figure size 1000x700 with 1 Axes>"
      ]
     },
     "metadata": {},
     "output_type": "display_data"
    }
   ],
   "source": [
    "import matplotlib.pyplot as plt\n",
    "fig = plt.figure(figsize =(10,7))\n",
    "\n",
    "sns.boxplot(x = df['ApplicantIncome'])\n",
    "sns.boxplot(data=df, x=\"ApplicantIncome\")\n"
   ]
  },
  {
   "cell_type": "code",
   "execution_count": 58,
   "id": "d0d8a3bc",
   "metadata": {},
   "outputs": [
    {
     "data": {
      "text/plain": [
       "<Axes: xlabel='LoanAmount'>"
      ]
     },
     "execution_count": 58,
     "metadata": {},
     "output_type": "execute_result"
    },
    {
     "data": {
      "image/png": "[encoded data removed]",
      "text/plain": [
       "<Figure size 1000x700 with 1 Axes>"
      ]
     },
     "metadata": {},
     "output_type": "display_data"
    }
   ],
   "source": [
    "import matplotlib.pyplot as plt\n",
    "fig = plt.figure(figsize =(10,7))\n",
    "\n",
    "sns.boxplot(x = df['LoanAmount'])\n",
    "sns.boxplot(data=df, x=\"LoanAmount\")"
   ]
  },
  {
   "cell_type": "markdown",
   "id": "4ae13cb5",
   "metadata": {},
   "source": [
    "## დავალება 6: t-test (2 ქულა)\n",
    "ა) გააკეთეთ t-test ანალიზი (One sample t-test)  რომელიმე სვეტის მიმართ და გამოიყენეთ  ttest_1samp ფუნქცია. \n",
    "\n",
    "ბ) გააკეთეთ t-test ანალიზი (Two sample t-test) რომელიმე სვეტის მიმართ და გამოიყენეთ  ttest_ind ფუნქცია. \n",
    "\n",
    "განსაზღვრეთ ნულოვანი და ალტერნატიული ჰიპოთეზა, გამოიყენეთ აღნიშნული ფუნქციები და მოახდინეთ შედეგების სიტყვიერი ინტერპრეტაცია."
   ]
  },
  {
   "cell_type": "code",
   "execution_count": 27,
   "id": "f05f6747",
   "metadata": {},
   "outputs": [
    {
     "name": "stdout",
     "output_type": "stream",
     "text": [
      "13.194204173229544 5.041172235395536e-35\n"
     ]
    }
   ],
   "source": [
    "from scipy.stats import ttest_1samp,ttest_ind\n",
    "import scipy.stats as stats \n",
    "df_clean = df.dropna(subset=['LoanAmount'])   # აბრუნებს მნიშვნელობებს nan-ის გარეშე\n",
    "t_statistic, p_value = stats.ttest_1samp(a=df_clean['LoanAmount'], popmean=100)   #აკეთებს t-test ანალიზს LoanAmount სვეტის მიხედვით\n",
    "print(t_statistic , p_value)"
   ]
  },
  {
   "cell_type": "code",
   "execution_count": 28,
   "id": "3ef0dcaa",
   "metadata": {},
   "outputs": [
    {
     "name": "stdout",
     "output_type": "stream",
     "text": [
      "T-statistic: -20.752139224695064\n",
      "P-value: 8.161291704552112e-82\n"
     ]
    }
   ],
   "source": [
    "df_clean = df.dropna(subset=['LoanAmount', 'ApplicantIncome'])\n",
    "# აკეთებს  t-test ანალიზს განსაზღვურლია ნულოვანი და ალტერნატიული ჰიპოთეზა\n",
    "t_stat, p_value = stats.ttest_ind(a=df_clean['LoanAmount'], b=df_clean['ApplicantIncome'], equal_var=True)\n",
    "\n",
    "print(f\"T-statistic: {t_stat}\")\n",
    "print(f\"P-value: {p_value}\")"
   ]
  },
  {
   "cell_type": "code",
   "execution_count": null,
   "id": "aedbcb77",
   "metadata": {},
   "outputs": [],
   "source": []
  },
  {
   "cell_type": "code",
   "execution_count": null,
   "id": "69edfae6",
   "metadata": {},
   "outputs": [],
   "source": []
  }
 ],
 "metadata": {
  "kernelspec": {
   "display_name": "Python 3 (ipykernel)",
   "language": "python",
   "name": "python3"
  },
  "language_info": {
   "codemirror_mode": {
    "name": "ipython",
    "version": 3
   },
   "file_extension": ".py",
   "mimetype": "text/x-python",
   "name": "python",
   "nbconvert_exporter": "python",
   "pygments_lexer": "ipython3",
   "version": "3.11.5"
  }
 },
 "nbformat": 4,
 "nbformat_minor": 5
}
